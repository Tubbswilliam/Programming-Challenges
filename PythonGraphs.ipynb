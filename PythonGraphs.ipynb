{
 "cells": [
  {
   "cell_type": "markdown",
   "metadata": {},
   "source": [
    "## GRAPHS \n",
    "### Graph Representation\n",
    "1. Adjacency matrix\n",
    "2. Incidence matrix\n",
    "3. Adjacency list\n",
    "4. Edge list"
   ]
  },
  {
   "cell_type": "code",
   "execution_count": 8,
   "metadata": {},
   "outputs": [
    {
     "name": "stdout",
     "output_type": "stream",
     "text": [
      "Neighbours of 3 are : \n",
      "2 4 "
     ]
    }
   ],
   "source": [
    "#representing the graph using adjacency list\n",
    "v=5\n",
    "adj=[[] for i in range(v)]\n",
    "adj[0].append(1)\n",
    "adj[0].append(3)\n",
    "adj[1].append(2)\n",
    "adj[3].append(2)\n",
    "adj[3].append(4)\n",
    "\n",
    "print(\"Neighbours of 3 are : \")\n",
    "for v in adj[3]:\n",
    "    print(v,end=\" \")"
   ]
  },
  {
   "cell_type": "markdown",
   "metadata": {},
   "source": [
    "## Graph Traversal\n",
    "1.Breadth First Search (BFS)\n",
    "\n",
    "2.Depth First Search (DFS)"
   ]
  },
  {
   "cell_type": "code",
   "execution_count": 14,
   "metadata": {},
   "outputs": [],
   "source": [
    "##Breadth First search (Breadthwise/Horizontal)\n",
    "class Graph:\n",
    "    def __init__(self,v):\n",
    "        self.v=v\n",
    "        self.adj=[[]for i in range(v)]\n",
    "    \n",
    "    def addEdge(self,u,v):\n",
    "        self.adj[u].append(v)\n",
    "        \n",
    "    def BFS(self,s):\n",
    "        Q=[]\n",
    "        visited=[False]*self.v\n",
    "        Q.append(s)\n",
    "        visited[s]=True\n",
    "        while(len(Q)>0):\n",
    "            v=Q.pop(0)\n",
    "            print(v,end=\" \")\n",
    "            for u in self.adj[v]:\n",
    "                if not visited[u]:\n",
    "                    Q.append(u)\n",
    "                    visited[u]=True\n",
    "                    \n",
    "                    \n",
    "G1=Graph(5)\n",
    "G1.addEdge(0,1)\n",
    "G1.addEdge(0,3)\n",
    "G1.addEdge(1,2)\n",
    "G1.addEdge(3,2)\n",
    "G1.addEdge(3,4)\n",
    "                    \n",
    "        "
   ]
  },
  {
   "cell_type": "code",
   "execution_count": 15,
   "metadata": {},
   "outputs": [
    {
     "name": "stdout",
     "output_type": "stream",
     "text": [
      "0 1 3 2 4 "
     ]
    }
   ],
   "source": [
    "G1.BFS(0)"
   ]
  },
  {
   "cell_type": "code",
   "execution_count": null,
   "metadata": {},
   "outputs": [],
   "source": []
  }
 ],
 "metadata": {
  "kernelspec": {
   "display_name": "Python 3",
   "language": "python",
   "name": "python3"
  },
  "language_info": {
   "codemirror_mode": {
    "name": "ipython",
    "version": 3
   },
   "file_extension": ".py",
   "mimetype": "text/x-python",
   "name": "python",
   "nbconvert_exporter": "python",
   "pygments_lexer": "ipython3",
   "version": "3.7.4"
  }
 },
 "nbformat": 4,
 "nbformat_minor": 2
}
